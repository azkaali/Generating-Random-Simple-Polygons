{
 "cells": [
  {
   "cell_type": "markdown",
   "id": "e46e5445",
   "metadata": {},
   "source": [
    "### i190597 CS-C"
   ]
  },
  {
   "cell_type": "code",
   "execution_count": 4,
   "id": "dd7e5d12",
   "metadata": {},
   "outputs": [],
   "source": [
    "import random\n",
    "import numpy as np\n",
    "from matplotlib import pyplot as plt"
   ]
  },
  {
   "cell_type": "markdown",
   "id": "2335ec5f",
   "metadata": {},
   "source": [
    "### Function to Draw Polygon"
   ]
  },
  {
   "cell_type": "code",
   "execution_count": 5,
   "id": "0a69f17a",
   "metadata": {},
   "outputs": [],
   "source": [
    "\n",
    "def draw_polygon(ax, n):\n",
    "    points = []\n",
    "    x = np.random.randint(0, 254, n)\n",
    "    y = np.random.randint(0, 254, n)\n",
    "\n",
    "    points = tuple(zip(x, y))\n",
    "    points = np.array(points)\n",
    "\n",
    "    #print(\"Points in the polygon \",points)\n",
    "    \n",
    "    center_point = [np.sum(x) / n, np.sum(y) / n]\n",
    "    angles = np.arctan2(x - center_point[0], y - center_point[1])\n",
    "\n",
    "    #sorting the points to ensure no intersecting edges:\n",
    "    sort_tups = sorted([(i, j, k) for i, j, k in zip(x, y, angles)], key=lambda t: t[2])\n",
    "\n",
    "    #making sure that there are no duplicates:\n",
    "    if len(sort_tups) != len(set(sort_tups)):\n",
    "        raise Exception('two equal coordinates -- exiting')\n",
    "\n",
    "    x, y, angles = zip(*sort_tups)\n",
    "    x = list(x)\n",
    "    y = list(y)\n",
    "\n",
    "    #appending first coordinate values to lists:\n",
    "    x.append(x[0])\n",
    "    y.append(y[0])\n",
    "\n",
    "#    fig, ax = plt.subplots()\n",
    "\n",
    "    ax.plot(x, y, label='{}'.format(n))\n",
    "\n",
    "    return points\n"
   ]
  },
  {
   "cell_type": "markdown",
   "id": "1b6682b2",
   "metadata": {},
   "source": [
    "### Function to generate a single chromosome "
   ]
  },
  {
   "cell_type": "code",
   "execution_count": 6,
   "id": "8a7ab8f3",
   "metadata": {},
   "outputs": [],
   "source": [
    "def chromosome_generation(points):\n",
    "    encoded = []\n",
    "    for row in points:\n",
    "        for cell in row:\n",
    "            x = bin(cell).replace(\"0b\", \"\")\n",
    "            while len(x) < 8:\n",
    "                x += '0'\n",
    "            encoded.append(x)\n",
    "    encoded = list(map(int, encoded))\n",
    "\n",
    "    while len(x) < 8:\n",
    "        x += '0'\n",
    "\n",
    "    #print(\"Binary encoded chromosome \", encoded)\n",
    "    chromosome = []\n",
    "    chromo = int(\"\".join(map(str, encoded)))\n",
    "    chromosome.append(chromo)\n",
    "    return chromosome\n"
   ]
  },
  {
   "cell_type": "markdown",
   "id": "50b33c22",
   "metadata": {},
   "source": [
    "### Function to generate population "
   ]
  },
  {
   "cell_type": "code",
   "execution_count": 7,
   "id": "ab62528c",
   "metadata": {},
   "outputs": [],
   "source": [
    "def population_generation(nvertices):\n",
    "    population = []\n",
    "    for i in range(0, 50):\n",
    "        points = draw_polygon(ax, n)\n",
    "        decimal_population.append(points)\n",
    "\n",
    "        chromosom = chromosome_generation(points)\n",
    "        population.append(chromosom)\n",
    "    \n",
    "    #print(\"Population of chromosomes: \",population)\n",
    "    return population\n"
   ]
  },
  {
   "cell_type": "markdown",
   "id": "a82091ca",
   "metadata": {},
   "source": [
    "### Function to find number of convex edges (fitness) of a chromosome"
   ]
  },
  {
   "cell_type": "code",
   "execution_count": 8,
   "id": "7a42880a",
   "metadata": {},
   "outputs": [],
   "source": [
    "def CrossProduct(A):\n",
    "    # Stores coefficient of X \n",
    "    X1 = (A[1][0] - A[0][0])\n",
    "    # Stores coefficient of Y \n",
    "    Y1 = (A[1][1] - A[0][1])\n",
    "    # Stores coefficient of X direction of vector A[2]A[0]\n",
    "    X2 = (A[2][0] - A[0][0])\n",
    "    # Stores coefficient of Y direction of vector A[2]A[0]\n",
    "    Y2 = (A[2][1] - A[0][1])\n",
    "    #cross product\n",
    "    return (X1 * Y2 - Y1 * X2)\n",
    "\n",
    "def isConvex(points):\n",
    "    fitness_value = 0\n",
    "    # Stores count of edges\n",
    "    N = len(points)\n",
    "    prev = 0\n",
    "\n",
    "    for i in range(N):\n",
    "        temp = [points[i], points[(i + 1) % N],\n",
    "                points[(i + 2) % N]]\n",
    "\n",
    "        curr = CrossProduct(temp)\n",
    "        if (curr != 0):\n",
    "            # If direction of cross product of all adjacent edges are not same\n",
    "            if (curr * prev < 0):\n",
    "                return fitness_value\n",
    "            if (curr * prev >= 0):\n",
    "                prev = curr\n",
    "                fitness_value += 1\n",
    "    return fitness_value"
   ]
  },
  {
   "cell_type": "markdown",
   "id": "4fd8d103",
   "metadata": {},
   "source": [
    "### Function to find fitness of a single chromosome"
   ]
  },
  {
   "cell_type": "code",
   "execution_count": 9,
   "id": "c50cb571",
   "metadata": {},
   "outputs": [],
   "source": [
    "def fitness_function(chromosome):\n",
    "    chromosome = list(chromosome)\n",
    "    fitness_value_of_one=isConvex(chromosome)\n",
    "    return fitness_value_of_one"
   ]
  },
  {
   "cell_type": "markdown",
   "id": "82bc0093",
   "metadata": {},
   "source": [
    "### Function to find fitness of entire population"
   ]
  },
  {
   "cell_type": "code",
   "execution_count": 10,
   "id": "f5104f16",
   "metadata": {},
   "outputs": [],
   "source": [
    "def calculate_fittness_of_population(decimal_population):\n",
    "    decimal_population = list(decimal_population)\n",
    "    fittness_score = []\n",
    "    fittness_temp = []\n",
    "    size = len(decimal_population)\n",
    "    for i in range(size):\n",
    "        # propability according to fitness function\n",
    "        chromosome = decimal_population[i].copy()\n",
    "        chromosome = list(chromosome)\n",
    "\n",
    "        fittness_temp.append(fitness_function(chromosome))\n",
    "\n",
    "    for i in range(size):\n",
    "        chromosome = decimal_population[i].copy()\n",
    "\n",
    "        prob = (fitness_function(chromosome) / sum(fittness_temp))\n",
    "        prob2 = prob * 100\n",
    "        fittness_score.append(prob2)\n",
    "\n",
    "    return fittness_score\n"
   ]
  },
  {
   "cell_type": "markdown",
   "id": "4dab2ec9",
   "metadata": {},
   "source": [
    "### Function to find two fittest individuals of a population"
   ]
  },
  {
   "cell_type": "code",
   "execution_count": 11,
   "id": "b349ae56",
   "metadata": {},
   "outputs": [],
   "source": [
    "def find_two_fittest_individuals(population, fittness_score):\n",
    "    fittest_individuals=[]\n",
    "    copy_of_fitness_values = fittness_score[:]\n",
    "\n",
    "    largest_fitness = max(copy_of_fitness_values)\n",
    "    #print(\"Largest fitness \",largest_fitness)\n",
    "    fittest_individuals.append(largest_fitness)\n",
    "    copy_of_fitness_values.remove(largest_fitness)\n",
    "\n",
    "    second_largest_fitness = max(copy_of_fitness_values)\n",
    "    #print(\"Second largest fitness \",second_largest_fitness)\n",
    "    fittest_individuals.append(second_largest_fitness)\n",
    "    return fittest_individuals\n"
   ]
  },
  {
   "cell_type": "markdown",
   "id": "e91d7b7e",
   "metadata": {},
   "source": [
    "### Function to find parents based upon fitness value"
   ]
  },
  {
   "cell_type": "code",
   "execution_count": 12,
   "id": "beb55cf4",
   "metadata": {},
   "outputs": [],
   "source": [
    "def parent_selection_RW(fittness_score, decimal_population):\n",
    "    #print(\"MAi yahan hu\",fittness_score)\n",
    "    parents = []\n",
    "    sum_fitt_score = sum(fittness_score)\n",
    "    size = len(decimal_population)\n",
    "    pick = random.uniform(0, sum_fitt_score)\n",
    "    current = 0\n",
    "    for chromosome in range(size):\n",
    "\n",
    "        current += fittness_score[chromosome]\n",
    "        if current < pick:\n",
    "            # need to make changes here !!\n",
    "            parents.append(decimal_population[chromosome])\n",
    "    return parents\n"
   ]
  },
  {
   "cell_type": "markdown",
   "id": "6f4f2ba3",
   "metadata": {},
   "source": [
    "### Crossover to generate children"
   ]
  },
  {
   "cell_type": "code",
   "execution_count": 13,
   "id": "1b011d30",
   "metadata": {},
   "outputs": [],
   "source": [
    "def crossover(population, parents):\n",
    "\n",
    "    #print(\"PRinting pop ulation \", len(population))\n",
    "    #print(\"Printing parents \",parents)\n",
    "    chromosome_representation_pop = []\n",
    "    size_of_pop = len(population)\n",
    "    for i in range(size_of_pop):\n",
    "        chromosome_representation_pop.append(chromosome_generation(population[i]))\n",
    "\n",
    "    chromosome_representation_prnts = []\n",
    "    size_of_par = len(parents)\n",
    "    for i in range(size_of_par):\n",
    "        chromosome_representation_prnts.append(chromosome_generation(population[i]))\n",
    "\n",
    "    # Making the new states\n",
    "    crossovered_gen = []\n",
    "    #print(\"Chromosomes of parents\", chromosome_representation_prnts)\n",
    "    for i in range(len(parents)):\n",
    "        newchromosomeA = chromosome_representation_prnts[i][:i+3]\n",
    "        if (i + 1 < len(parents)):\n",
    "            newchromosomeB = chromosome_representation_prnts[i][i+3:]\n",
    "\n",
    "            finalchromosome = newchromosomeA + newchromosomeB\n",
    "            crossovered_gen.append(finalchromosome)\n",
    "\n",
    "    #print(\"Printing returned values after crossover \",crossovered_gen)\n",
    "    if parents==crossovered_gen:\n",
    "        print(\"Crossover failed\")\n",
    "        return\n",
    "    return crossovered_gen\n"
   ]
  },
  {
   "cell_type": "markdown",
   "id": "fcd4a9bf",
   "metadata": {},
   "source": [
    "### Mutation of crossovered generation"
   ]
  },
  {
   "cell_type": "code",
   "execution_count": 14,
   "id": "678f497a",
   "metadata": {},
   "outputs": [],
   "source": [
    "def mutation(crossovered_gen, population_size):\n",
    "    #print(population_size)\n",
    "    for i in range(0,population_size):\n",
    "    # random selection of gene position that needs to be changes\n",
    "        index_of_gene = random.randint(0, population_size - 5)\n",
    "        #print(\"Index of gene\",index_of_gene)\n",
    "        # random selection of gene value that needs to be changed\n",
    "        new_gene = random.randint(0, population_size - 5)\n",
    "        #print(\"new gene\",new_gene)\n",
    "        crossovered_gen[index_of_gene] = crossovered_gen[new_gene]\n",
    "    return crossovered_gen\n"
   ]
  },
  {
   "cell_type": "markdown",
   "id": "8602da59",
   "metadata": {},
   "source": [
    "### Genetic Algorithm"
   ]
  },
  {
   "cell_type": "code",
   "execution_count": 15,
   "id": "0abbfc0b",
   "metadata": {},
   "outputs": [],
   "source": [
    "def GA(population, max_gen,n):\n",
    "    \n",
    "    index = 0\n",
    "    while (index < max_gen):\n",
    "        print(\"-----------------GENERATION \",index ,\"---------------\")\n",
    "        #points = draw_polygon(ax, n)\n",
    "        #chromosom = chromosome_generation(points)\n",
    "\n",
    "        fitness_without_probability = []\n",
    "        population = population_generation(n)\n",
    "        for i in decimal_population:\n",
    "            fitness_without_probability.append(fitness_function(i))\n",
    "\n",
    "        print(\"--------Fitness values using fitness_function--------\", fitness_without_probability)\n",
    "\n",
    "        parents_fitness_values = []\n",
    "        fittness_score = (calculate_fittness_of_population(decimal_population))\n",
    "        #print(\"--------Fitness scores using probability, list-------- \", calculate_fittness_of_population(decimal_population))\n",
    "        print(\"--------The two fittest kids-------- \", find_two_fittest_individuals(population, fittness_score))\n",
    "        parents_fitness_values.append(parent_selection_RW(fittness_score, decimal_population))\n",
    "        #print(\"--------Parent selection by roulette wheel-------- \", parent_selection_RW(fittness_score, decimal_population))\n",
    "        crossovered_gen = crossover(decimal_population, parent_selection_RW(fittness_score, decimal_population))\n",
    "        population_size = len(crossovered_gen)\n",
    "        mutated_gene = mutation(crossovered_gen, population_size)\n",
    "        #print(\"--------After mutation-------- \", mutated_gene)\n",
    "        fittest_individual=max(fittness_score)\n",
    "        print(\"--------Fittest indvidual of generation \",index ,\"has fitness value \",fittest_individual, \"-------- \")\n",
    "        fittest_without_probability=max(fitness_without_probability)\n",
    "        #print(\"Fittest mai hu\",fittest_without_probability)\n",
    "        count=0\n",
    "\n",
    "        for i in range(0,len(fitness_without_probability)):\n",
    "            if fittest_without_probability==n:\n",
    "                fig, ax = plt.subplots()\n",
    "                points = draw_polygon(ax, n)\n",
    "                chromosom = chromosome_generation(points)\n",
    "                count+=1\n",
    "        print(count) \n",
    "        index+=1\n"
   ]
  },
  {
   "cell_type": "code",
   "execution_count": 16,
   "id": "ce023e5a",
   "metadata": {},
   "outputs": [
    {
     "ename": "KeyboardInterrupt",
     "evalue": "Interrupted by user",
     "output_type": "error",
     "traceback": [
      "\u001b[1;31m---------------------------------------------------------------------------\u001b[0m",
      "\u001b[1;31mKeyboardInterrupt\u001b[0m                         Traceback (most recent call last)",
      "\u001b[1;32mC:\\Users\\SFE522~1\\AppData\\Local\\Temp/ipykernel_14180/1995306287.py\u001b[0m in \u001b[0;36m<module>\u001b[1;34m\u001b[0m\n\u001b[0;32m      1\u001b[0m \u001b[1;32mif\u001b[0m \u001b[0m__name__\u001b[0m \u001b[1;33m==\u001b[0m \u001b[1;34m\"__main__\"\u001b[0m\u001b[1;33m:\u001b[0m\u001b[1;33m\u001b[0m\u001b[1;33m\u001b[0m\u001b[0m\n\u001b[0;32m      2\u001b[0m     \u001b[0mfig\u001b[0m\u001b[1;33m,\u001b[0m \u001b[0max\u001b[0m \u001b[1;33m=\u001b[0m \u001b[0mplt\u001b[0m\u001b[1;33m.\u001b[0m\u001b[0msubplots\u001b[0m\u001b[1;33m(\u001b[0m\u001b[1;33m)\u001b[0m\u001b[1;33m\u001b[0m\u001b[1;33m\u001b[0m\u001b[0m\n\u001b[1;32m----> 3\u001b[1;33m     \u001b[0mn\u001b[0m \u001b[1;33m=\u001b[0m \u001b[0minput\u001b[0m\u001b[1;33m(\u001b[0m\u001b[1;34m\"--------------Enter number of vertices of the polygon-----------\"\u001b[0m\u001b[1;33m)\u001b[0m\u001b[1;33m\u001b[0m\u001b[1;33m\u001b[0m\u001b[0m\n\u001b[0m\u001b[0;32m      4\u001b[0m     \u001b[0mn\u001b[0m \u001b[1;33m=\u001b[0m \u001b[0mint\u001b[0m\u001b[1;33m(\u001b[0m\u001b[0mn\u001b[0m\u001b[1;33m)\u001b[0m\u001b[1;33m\u001b[0m\u001b[1;33m\u001b[0m\u001b[0m\n\u001b[0;32m      5\u001b[0m     \u001b[0mmax_gen\u001b[0m \u001b[1;33m=\u001b[0m \u001b[0minput\u001b[0m\u001b[1;33m(\u001b[0m\u001b[1;34m\"--------------Enter number of vertices of generations-----------\"\u001b[0m\u001b[1;33m)\u001b[0m\u001b[1;33m\u001b[0m\u001b[1;33m\u001b[0m\u001b[0m\n",
      "\u001b[1;32mD:\\Anaconda\\lib\\site-packages\\ipykernel\\kernelbase.py\u001b[0m in \u001b[0;36mraw_input\u001b[1;34m(self, prompt)\u001b[0m\n\u001b[0;32m   1004\u001b[0m                 \u001b[1;34m\"raw_input was called, but this frontend does not support input requests.\"\u001b[0m\u001b[1;33m\u001b[0m\u001b[1;33m\u001b[0m\u001b[0m\n\u001b[0;32m   1005\u001b[0m             )\n\u001b[1;32m-> 1006\u001b[1;33m         return self._input_request(\n\u001b[0m\u001b[0;32m   1007\u001b[0m             \u001b[0mstr\u001b[0m\u001b[1;33m(\u001b[0m\u001b[0mprompt\u001b[0m\u001b[1;33m)\u001b[0m\u001b[1;33m,\u001b[0m\u001b[1;33m\u001b[0m\u001b[1;33m\u001b[0m\u001b[0m\n\u001b[0;32m   1008\u001b[0m             \u001b[0mself\u001b[0m\u001b[1;33m.\u001b[0m\u001b[0m_parent_ident\u001b[0m\u001b[1;33m[\u001b[0m\u001b[1;34m\"shell\"\u001b[0m\u001b[1;33m]\u001b[0m\u001b[1;33m,\u001b[0m\u001b[1;33m\u001b[0m\u001b[1;33m\u001b[0m\u001b[0m\n",
      "\u001b[1;32mD:\\Anaconda\\lib\\site-packages\\ipykernel\\kernelbase.py\u001b[0m in \u001b[0;36m_input_request\u001b[1;34m(self, prompt, ident, parent, password)\u001b[0m\n\u001b[0;32m   1049\u001b[0m             \u001b[1;32mexcept\u001b[0m \u001b[0mKeyboardInterrupt\u001b[0m\u001b[1;33m:\u001b[0m\u001b[1;33m\u001b[0m\u001b[1;33m\u001b[0m\u001b[0m\n\u001b[0;32m   1050\u001b[0m                 \u001b[1;31m# re-raise KeyboardInterrupt, to truncate traceback\u001b[0m\u001b[1;33m\u001b[0m\u001b[1;33m\u001b[0m\u001b[0m\n\u001b[1;32m-> 1051\u001b[1;33m                 \u001b[1;32mraise\u001b[0m \u001b[0mKeyboardInterrupt\u001b[0m\u001b[1;33m(\u001b[0m\u001b[1;34m\"Interrupted by user\"\u001b[0m\u001b[1;33m)\u001b[0m \u001b[1;32mfrom\u001b[0m \u001b[1;32mNone\u001b[0m\u001b[1;33m\u001b[0m\u001b[1;33m\u001b[0m\u001b[0m\n\u001b[0m\u001b[0;32m   1052\u001b[0m             \u001b[1;32mexcept\u001b[0m \u001b[0mException\u001b[0m\u001b[1;33m:\u001b[0m\u001b[1;33m\u001b[0m\u001b[1;33m\u001b[0m\u001b[0m\n\u001b[0;32m   1053\u001b[0m                 \u001b[0mself\u001b[0m\u001b[1;33m.\u001b[0m\u001b[0mlog\u001b[0m\u001b[1;33m.\u001b[0m\u001b[0mwarning\u001b[0m\u001b[1;33m(\u001b[0m\u001b[1;34m\"Invalid Message:\"\u001b[0m\u001b[1;33m,\u001b[0m \u001b[0mexc_info\u001b[0m\u001b[1;33m=\u001b[0m\u001b[1;32mTrue\u001b[0m\u001b[1;33m)\u001b[0m\u001b[1;33m\u001b[0m\u001b[1;33m\u001b[0m\u001b[0m\n",
      "\u001b[1;31mKeyboardInterrupt\u001b[0m: Interrupted by user"
     ]
    },
    {
     "data": {
      "image/png": "[encoded data removed]",
      "text/plain": [
       "<Figure size 432x288 with 1 Axes>"
      ]
     },
     "metadata": {
      "needs_background": "light"
     },
     "output_type": "display_data"
    }
   ],
   "source": [
    "if __name__ == \"__main__\":\n",
    "    fig, ax = plt.subplots()\n",
    "    n = input(\"--------------Enter number of vertices of the polygon-----------\")\n",
    "    n = int(n)\n",
    "    max_gen = input(\"--------------Enter number of vertices of generations-----------\")\n",
    "    max_gen = int(max_gen)\n",
    "    population=population_generation(n)\n",
    "    GA(population, max_gen,n)\n",
    "       \n",
    "    "
   ]
  },
  {
   "cell_type": "code",
   "execution_count": null,
   "id": "9bac695e",
   "metadata": {},
   "outputs": [],
   "source": []
  }
 ],
 "metadata": {
  "kernelspec": {
   "display_name": "Python 3 (ipykernel)",
   "language": "python",
   "name": "python3"
  },
  "language_info": {
   "codemirror_mode": {
    "name": "ipython",
    "version": 3
   },
   "file_extension": ".py",
   "mimetype": "text/x-python",
   "name": "python",
   "nbconvert_exporter": "python",
   "pygments_lexer": "ipython3",
   "version": "3.9.7"
  }
 },
 "nbformat": 4,
 "nbformat_minor": 5
}
